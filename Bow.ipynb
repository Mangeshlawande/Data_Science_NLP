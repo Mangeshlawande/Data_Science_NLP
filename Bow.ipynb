{
 "cells": [
  {
   "cell_type": "markdown",
   "id": "440efc67",
   "metadata": {},
   "source": [
    "# Bag of words"
   ]
  },
  {
   "cell_type": "code",
   "execution_count": 3,
   "id": "32e0310d",
   "metadata": {},
   "outputs": [],
   "source": [
    "from sklearn.feature_extraction.text import CountVectorizer\n",
    "import pandas as pd"
   ]
  },
  {
   "cell_type": "code",
   "execution_count": 4,
   "id": "63c82ee4",
   "metadata": {},
   "outputs": [],
   "source": [
    "A1 = \"Hello and Welcome Dosto \"\n",
    "A2 = \"I'm Leanrnig NLP \"\n",
    "A3 = \"Harry is good boy\"\n"
   ]
  },
  {
   "cell_type": "code",
   "execution_count": 9,
   "id": "d102f9b8",
   "metadata": {},
   "outputs": [
    {
     "name": "stdout",
     "output_type": "stream",
     "text": [
      "   boy  dosto  good  harry  hello  leanrnig  nlp  welcome\n",
      "0    0      1     0      0      1         0    0        1\n",
      "1    0      0     0      0      0         1    1        0\n",
      "2    1      0     1      1      0         0    0        0\n"
     ]
    }
   ],
   "source": [
    "vectorizer = CountVectorizer(stop_words=\"english\")\n",
    "vectors = vectorizer.fit_transform([A1,A2,A3])\n",
    "feature_names = vectorizer.get_feature_names_out()\n",
    "dense = vectors.todense()\n",
    "\n",
    "result = pd.DataFrame(dense, columns= feature_names)\n",
    "\n",
    "print(result)"
   ]
  },
  {
   "cell_type": "code",
   "execution_count": null,
   "id": "d8efaa4e",
   "metadata": {},
   "outputs": [],
   "source": []
  }
 ],
 "metadata": {
  "kernelspec": {
   "display_name": "Python 3 (ipykernel)",
   "language": "python",
   "name": "python3"
  },
  "language_info": {
   "codemirror_mode": {
    "name": "ipython",
    "version": 3
   },
   "file_extension": ".py",
   "mimetype": "text/x-python",
   "name": "python",
   "nbconvert_exporter": "python",
   "pygments_lexer": "ipython3",
   "version": "3.11.5"
  }
 },
 "nbformat": 4,
 "nbformat_minor": 5
}
