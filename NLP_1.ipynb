{
 "cells": [
  {
   "cell_type": "markdown",
   "id": "8e71802b",
   "metadata": {},
   "source": [
    "# Tokenization "
   ]
  },
  {
   "cell_type": "code",
   "execution_count": 1,
   "id": "daef57fe",
   "metadata": {},
   "outputs": [
    {
     "name": "stderr",
     "output_type": "stream",
     "text": [
      "[nltk_data] Downloading package punkt to\n",
      "[nltk_data]     C:\\Users\\mange\\AppData\\Roaming\\nltk_data...\n",
      "[nltk_data]   Package punkt is already up-to-date!\n"
     ]
    },
    {
     "data": {
      "text/plain": [
       "True"
      ]
     },
     "execution_count": 1,
     "metadata": {},
     "output_type": "execute_result"
    }
   ],
   "source": [
    "import nltk\n",
    "nltk.download('punkt')"
   ]
  },
  {
   "cell_type": "code",
   "execution_count": 2,
   "id": "1861d024",
   "metadata": {},
   "outputs": [],
   "source": [
    "from  nltk.tokenize import word_tokenize\n",
    "from nltk.tokenize import sent_tokenize"
   ]
  },
  {
   "cell_type": "code",
   "execution_count": 3,
   "id": "a81c6482",
   "metadata": {},
   "outputs": [],
   "source": [
    "a =\"The Natural Language Toolkit (NLTK) is a platform used for building Python programs that work with human language data for applying in statistical natural language processing (NLP). \""
   ]
  },
  {
   "cell_type": "code",
   "execution_count": 4,
   "id": "0ef9c5cf",
   "metadata": {},
   "outputs": [
    {
     "data": {
      "text/plain": [
       "['The',\n",
       " 'Natural',\n",
       " 'Language',\n",
       " 'Toolkit',\n",
       " '(',\n",
       " 'NLTK',\n",
       " ')',\n",
       " 'is',\n",
       " 'a',\n",
       " 'platform',\n",
       " 'used',\n",
       " 'for',\n",
       " 'building',\n",
       " 'Python',\n",
       " 'programs',\n",
       " 'that',\n",
       " 'work',\n",
       " 'with',\n",
       " 'human',\n",
       " 'language',\n",
       " 'data',\n",
       " 'for',\n",
       " 'applying',\n",
       " 'in',\n",
       " 'statistical',\n",
       " 'natural',\n",
       " 'language',\n",
       " 'processing',\n",
       " '(',\n",
       " 'NLP',\n",
       " ')',\n",
       " '.']"
      ]
     },
     "execution_count": 4,
     "metadata": {},
     "output_type": "execute_result"
    }
   ],
   "source": [
    "A = word_tokenize(a)\n",
    "A"
   ]
  },
  {
   "cell_type": "code",
   "execution_count": 5,
   "id": "734588d9",
   "metadata": {},
   "outputs": [
    {
     "data": {
      "text/plain": [
       "['The Natural Language Toolkit (NLTK) is a platform used for building Python programs that work with human language data for applying in statistical natural language processing (NLP).']"
      ]
     },
     "execution_count": 5,
     "metadata": {},
     "output_type": "execute_result"
    }
   ],
   "source": [
    "s = sent_tokenize(a)\n",
    "s"
   ]
  },
  {
   "cell_type": "code",
   "execution_count": null,
   "id": "f926624f",
   "metadata": {},
   "outputs": [],
   "source": []
  },
  {
   "cell_type": "markdown",
   "id": "ddf728d1",
   "metadata": {},
   "source": [
    "# Type, Length and Frequency checking "
   ]
  },
  {
   "cell_type": "code",
   "execution_count": 6,
   "id": "e443828f",
   "metadata": {},
   "outputs": [
    {
     "data": {
      "text/plain": [
       "(list, 32)"
      ]
     },
     "execution_count": 6,
     "metadata": {},
     "output_type": "execute_result"
    }
   ],
   "source": [
    "type(A),len(A)\n",
    "\n",
    "#"
   ]
  },
  {
   "cell_type": "code",
   "execution_count": 7,
   "id": "3a265f76",
   "metadata": {},
   "outputs": [],
   "source": [
    "from nltk.probability import FreqDist\n",
    "frequency = FreqDist()\n",
    "# occurance of word"
   ]
  },
  {
   "cell_type": "code",
   "execution_count": 8,
   "id": "089d447c",
   "metadata": {},
   "outputs": [
    {
     "data": {
      "text/plain": [
       "FreqDist({'(': 2, ')': 2, 'for': 2, 'language': 2, 'The': 1, 'Natural': 1, 'Language': 1, 'Toolkit': 1, 'NLTK': 1, 'is': 1, ...})"
      ]
     },
     "execution_count": 8,
     "metadata": {},
     "output_type": "execute_result"
    }
   ],
   "source": [
    "for i in A:\n",
    " frequency[i] = frequency[i]+1\n",
    "    \n",
    "frequency"
   ]
  },
  {
   "cell_type": "markdown",
   "id": "fb2047f6",
   "metadata": {},
   "source": [
    "# Stemming"
   ]
  },
  {
   "cell_type": "code",
   "execution_count": 9,
   "id": "1a4e2f9f",
   "metadata": {},
   "outputs": [],
   "source": [
    "# base/ root form of word "
   ]
  },
  {
   "cell_type": "code",
   "execution_count": 10,
   "id": "db7c1021",
   "metadata": {},
   "outputs": [],
   "source": [
    "from nltk.stem import PorterStemmer\n",
    "pst = PorterStemmer() #"
   ]
  },
  {
   "cell_type": "code",
   "execution_count": 11,
   "id": "63cd0909",
   "metadata": {},
   "outputs": [
    {
     "data": {
      "text/plain": [
       "'make'"
      ]
     },
     "execution_count": 11,
     "metadata": {},
     "output_type": "execute_result"
    }
   ],
   "source": [
    "pst.stem(\"making\")"
   ]
  },
  {
   "cell_type": "code",
   "execution_count": 12,
   "id": "37b84dbd",
   "metadata": {},
   "outputs": [
    {
     "name": "stdout",
     "output_type": "stream",
     "text": [
      "the\n",
      "natur\n",
      "languag\n",
      "toolkit\n",
      "(\n",
      "nltk\n",
      ")\n",
      "is\n",
      "a\n",
      "platform\n",
      "use\n",
      "for\n",
      "build\n",
      "python\n",
      "program\n",
      "that\n",
      "work\n",
      "with\n",
      "human\n",
      "languag\n",
      "data\n",
      "for\n",
      "appli\n",
      "in\n",
      "statist\n",
      "natur\n",
      "languag\n",
      "process\n",
      "(\n",
      "nlp\n",
      ")\n",
      ".\n"
     ]
    }
   ],
   "source": [
    "for i in A:\n",
    "    print(pst.stem(i))\n",
    "    "
   ]
  },
  {
   "cell_type": "code",
   "execution_count": 13,
   "id": "df76bf74",
   "metadata": {},
   "outputs": [
    {
     "data": {
      "text/plain": [
       "'univers'"
      ]
     },
     "execution_count": 13,
     "metadata": {},
     "output_type": "execute_result"
    }
   ],
   "source": [
    "pst.stem(\"universal\")"
   ]
  },
  {
   "cell_type": "code",
   "execution_count": 14,
   "id": "4f827fe2",
   "metadata": {},
   "outputs": [
    {
     "data": {
      "text/plain": [
       "'univers'"
      ]
     },
     "execution_count": 14,
     "metadata": {},
     "output_type": "execute_result"
    }
   ],
   "source": [
    "pst.stem(\"universe\")"
   ]
  },
  {
   "cell_type": "code",
   "execution_count": 15,
   "id": "e43cb577",
   "metadata": {},
   "outputs": [
    {
     "data": {
      "text/plain": [
       "'univers'"
      ]
     },
     "execution_count": 15,
     "metadata": {},
     "output_type": "execute_result"
    }
   ],
   "source": [
    "pst.stem(\"university\")"
   ]
  },
  {
   "cell_type": "markdown",
   "id": "977e34ef",
   "metadata": {},
   "source": []
  },
  {
   "cell_type": "code",
   "execution_count": 16,
   "id": "e0195404",
   "metadata": {},
   "outputs": [
    {
     "data": {
      "text/plain": [
       "'alumni'"
      ]
     },
     "execution_count": 16,
     "metadata": {},
     "output_type": "execute_result"
    }
   ],
   "source": [
    "pst.stem(\"alumni\")"
   ]
  },
  {
   "cell_type": "code",
   "execution_count": 17,
   "id": "e1f27577",
   "metadata": {},
   "outputs": [
    {
     "data": {
      "text/plain": [
       "'alumnu'"
      ]
     },
     "execution_count": 17,
     "metadata": {},
     "output_type": "execute_result"
    }
   ],
   "source": [
    "pst.stem(\"alumnus\")"
   ]
  },
  {
   "cell_type": "markdown",
   "id": "6ee21b59",
   "metadata": {},
   "source": [
    "# Lemmatization"
   ]
  },
  {
   "cell_type": "code",
   "execution_count": 18,
   "id": "35fceb53",
   "metadata": {},
   "outputs": [
    {
     "name": "stderr",
     "output_type": "stream",
     "text": [
      "[nltk_data] Downloading package wordnet to\n",
      "[nltk_data]     C:\\Users\\mange\\AppData\\Roaming\\nltk_data...\n",
      "[nltk_data]   Package wordnet is already up-to-date!\n"
     ]
    }
   ],
   "source": [
    "# It show the word in proper meaningful form (root form)\n",
    "import nltk\n",
    "nltk.download(\"wordnet\")\n",
    "from nltk.stem import WordNetLemmatizer"
   ]
  },
  {
   "cell_type": "code",
   "execution_count": 19,
   "id": "ce68f9be",
   "metadata": {},
   "outputs": [],
   "source": [
    "lemmatizer = WordNetLemmatizer()"
   ]
  },
  {
   "cell_type": "code",
   "execution_count": 20,
   "id": "e7fb8a14",
   "metadata": {},
   "outputs": [
    {
     "data": {
      "text/plain": [
       "'troubl'"
      ]
     },
     "execution_count": 20,
     "metadata": {},
     "output_type": "execute_result"
    }
   ],
   "source": [
    "pst.stem(\"trouble\")"
   ]
  },
  {
   "cell_type": "code",
   "execution_count": 21,
   "id": "14005134",
   "metadata": {},
   "outputs": [
    {
     "data": {
      "text/plain": [
       "'trouble'"
      ]
     },
     "execution_count": 21,
     "metadata": {},
     "output_type": "execute_result"
    }
   ],
   "source": [
    "lemmatizer.lemmatize(\"trouble\")"
   ]
  },
  {
   "cell_type": "code",
   "execution_count": 22,
   "id": "476d12ad",
   "metadata": {},
   "outputs": [
    {
     "name": "stdout",
     "output_type": "stream",
     "text": [
      "The Natural Language Toolkit ( NLTK ) is a platform used for building Python program that work with human language data for applying in statistical natural language processing ( NLP ) . "
     ]
    }
   ],
   "source": [
    "for i in A:\n",
    " print(lemmatizer.lemmatize(i),end=\" \")\n",
    "    "
   ]
  },
  {
   "cell_type": "code",
   "execution_count": 23,
   "id": "d957a40d",
   "metadata": {},
   "outputs": [
    {
     "name": "stdout",
     "output_type": "stream",
     "text": [
      "The Natural Language Toolkit ( NLTK ) is a platform used for building Python programs that work with human language data for applying in statistical natural language processing ( NLP ) . "
     ]
    }
   ],
   "source": [
    "for i in A:\n",
    " print(i,end=\" \")"
   ]
  },
  {
   "cell_type": "raw",
   "id": "43411e21",
   "metadata": {},
   "source": []
  },
  {
   "cell_type": "markdown",
   "id": "f0abff65",
   "metadata": {},
   "source": [
    " lemmatizer.lemmatize(\"alumni\")"
   ]
  },
  {
   "cell_type": "code",
   "execution_count": 24,
   "id": "90fe3965",
   "metadata": {},
   "outputs": [
    {
     "data": {
      "text/plain": [
       "'alumnus'"
      ]
     },
     "execution_count": 24,
     "metadata": {},
     "output_type": "execute_result"
    }
   ],
   "source": [
    "lemmatizer.lemmatize(\"alumni\")"
   ]
  },
  {
   "cell_type": "code",
   "execution_count": 25,
   "id": "6206c1ec",
   "metadata": {},
   "outputs": [
    {
     "data": {
      "text/plain": [
       "'alumnus'"
      ]
     },
     "execution_count": 25,
     "metadata": {},
     "output_type": "execute_result"
    }
   ],
   "source": [
    "lemmatizer.lemmatize(\"alumnus\")"
   ]
  },
  {
   "cell_type": "code",
   "execution_count": 26,
   "id": "e704b251",
   "metadata": {},
   "outputs": [
    {
     "data": {
      "text/plain": [
       "'university'"
      ]
     },
     "execution_count": 26,
     "metadata": {},
     "output_type": "execute_result"
    }
   ],
   "source": [
    "lemmatizer.lemmatize(\"university\")"
   ]
  },
  {
   "cell_type": "code",
   "execution_count": 27,
   "id": "084f4e14",
   "metadata": {},
   "outputs": [
    {
     "data": {
      "text/plain": [
       "'universe'"
      ]
     },
     "execution_count": 27,
     "metadata": {},
     "output_type": "execute_result"
    }
   ],
   "source": [
    "lemmatizer.lemmatize(\"universe\")"
   ]
  },
  {
   "cell_type": "markdown",
   "id": "cd9e6b31",
   "metadata": {},
   "source": [
    "# pos_Tagging "
   ]
  },
  {
   "cell_type": "code",
   "execution_count": 29,
   "id": "fd85e61e",
   "metadata": {},
   "outputs": [
    {
     "name": "stderr",
     "output_type": "stream",
     "text": [
      "[nltk_data] Downloading package averaged_perceptron_tagger to\n",
      "[nltk_data]     C:\\Users\\mange\\AppData\\Roaming\\nltk_data...\n",
      "[nltk_data]   Unzipping taggers\\averaged_perceptron_tagger.zip.\n"
     ]
    },
    {
     "data": {
      "text/plain": [
       "True"
      ]
     },
     "execution_count": 29,
     "metadata": {},
     "output_type": "execute_result"
    }
   ],
   "source": [
    "nltk.download(\"averaged_perceptron_tagger\")"
   ]
  },
  {
   "cell_type": "code",
   "execution_count": 31,
   "id": "b41fddb5",
   "metadata": {},
   "outputs": [
    {
     "name": "stdout",
     "output_type": "stream",
     "text": [
      "[('The', 'DT')]\n",
      "[('Natural', 'JJ')]\n",
      "[('Language', 'NN')]\n",
      "[('Toolkit', 'NN')]\n",
      "[('(', '(')]\n",
      "[('NLTK', 'NN')]\n",
      "[(')', ')')]\n",
      "[('is', 'VBZ')]\n",
      "[('a', 'DT')]\n",
      "[('platform', 'NN')]\n",
      "[('used', 'VBN')]\n",
      "[('for', 'IN')]\n",
      "[('building', 'NN')]\n",
      "[('Python', 'NN')]\n",
      "[('programs', 'NNS')]\n",
      "[('that', 'IN')]\n",
      "[('work', 'NN')]\n",
      "[('with', 'IN')]\n",
      "[('human', 'NN')]\n",
      "[('language', 'NN')]\n",
      "[('data', 'NNS')]\n",
      "[('for', 'IN')]\n",
      "[('applying', 'VBG')]\n",
      "[('in', 'IN')]\n",
      "[('statistical', 'JJ')]\n",
      "[('natural', 'JJ')]\n",
      "[('language', 'NN')]\n",
      "[('processing', 'NN')]\n",
      "[('(', '(')]\n",
      "[('NLP', 'NN')]\n",
      "[(')', ')')]\n",
      "[('.', '.')]\n"
     ]
    }
   ],
   "source": [
    "for i in A:\n",
    " print(nltk.pos_tag([i]))\n",
    "\n",
    "# part of speech ==>have different part like noun pronoun , adjective , verb, adverb etc\n",
    "#It can tag the type of word in front of that word \n",
    "#It focus on noun part "
   ]
  },
  {
   "cell_type": "markdown",
   "id": "9771e5e6",
   "metadata": {},
   "source": [
    "# Named entity Recognition "
   ]
  },
  {
   "cell_type": "code",
   "execution_count": 33,
   "id": "80bcd2e9",
   "metadata": {},
   "outputs": [],
   "source": [
    "#It try to focus on noun then identify the actual entity \n",
    "\n",
    "import nltk\n",
    "from nltk.tokenize import word_tokenize\n",
    "from nltk.tag import pos_tag"
   ]
  },
  {
   "cell_type": "code",
   "execution_count": 34,
   "id": "395c0d91",
   "metadata": {},
   "outputs": [],
   "source": [
    "text = '''Harry Lives in New York'''\n",
    "word = word_tokenize(text)\n",
    "postag = pos_tag(word)"
   ]
  },
  {
   "cell_type": "code",
   "execution_count": 38,
   "id": "7b4ddbc0",
   "metadata": {},
   "outputs": [
    {
     "name": "stderr",
     "output_type": "stream",
     "text": [
      "[nltk_data] Downloading package maxent_ne_chunker to\n",
      "[nltk_data]     C:\\Users\\mange\\AppData\\Roaming\\nltk_data...\n",
      "[nltk_data]   Package maxent_ne_chunker is already up-to-date!\n",
      "[nltk_data] Downloading package words to\n",
      "[nltk_data]     C:\\Users\\mange\\AppData\\Roaming\\nltk_data...\n",
      "[nltk_data]   Unzipping corpora\\words.zip.\n"
     ]
    },
    {
     "data": {
      "text/plain": [
       "True"
      ]
     },
     "execution_count": 38,
     "metadata": {},
     "output_type": "execute_result"
    }
   ],
   "source": [
    "import nltk\n",
    "nltk.download('maxent_ne_chunker')\n",
    "nltk.download('words')\n"
   ]
  },
  {
   "cell_type": "code",
   "execution_count": 39,
   "id": "f913e113",
   "metadata": {},
   "outputs": [
    {
     "name": "stdout",
     "output_type": "stream",
     "text": [
      "(S (PERSON Harry/NNP) Lives/VBZ in/IN (GPE New/NNP York/NNP))\n"
     ]
    }
   ],
   "source": [
    "tree = nltk.ne_chunk(postag)\n",
    "print(tree)"
   ]
  },
  {
   "cell_type": "code",
   "execution_count": 42,
   "id": "32afac65",
   "metadata": {},
   "outputs": [],
   "source": [
    "Text = \"John wants a new samsung device from Pune ....\"\n",
    "words = word_tokenize(Text)\n",
    "postags =pos_tag(words)"
   ]
  },
  {
   "cell_type": "code",
   "execution_count": 43,
   "id": "86d4fd66",
   "metadata": {},
   "outputs": [
    {
     "name": "stdout",
     "output_type": "stream",
     "text": [
      "(S\n",
      "  (PERSON John/NNP)\n",
      "  wants/VBZ\n",
      "  a/DT\n",
      "  new/JJ\n",
      "  samsung/NN\n",
      "  device/NN\n",
      "  from/IN\n",
      "  (GPE Pune/NNP)\n",
      "  ..../NN)\n"
     ]
    }
   ],
   "source": [
    "tree = nltk.ne_chunk(postags)\n",
    "print(tree)"
   ]
  },
  {
   "cell_type": "markdown",
   "id": "30ffc65d",
   "metadata": {},
   "source": [
    "# Stopwords"
   ]
  },
  {
   "cell_type": "code",
   "execution_count": 46,
   "id": "14d1f4e1",
   "metadata": {},
   "outputs": [
    {
     "name": "stderr",
     "output_type": "stream",
     "text": [
      "[nltk_data] Downloading package stopwords to\n",
      "[nltk_data]     C:\\Users\\mange\\AppData\\Roaming\\nltk_data...\n",
      "[nltk_data]   Unzipping corpora\\stopwords.zip.\n"
     ]
    },
    {
     "data": {
      "text/plain": [
       "True"
      ]
     },
     "execution_count": 46,
     "metadata": {},
     "output_type": "execute_result"
    }
   ],
   "source": [
    "# It nothing like a glueing to join important words \n",
    "\n",
    "from nltk.corpus import stopwords\n",
    "import nltk\n",
    "nltk.download('stopwords')"
   ]
  },
  {
   "cell_type": "code",
   "execution_count": 47,
   "id": "0f096e26",
   "metadata": {},
   "outputs": [],
   "source": [
    "stop_words = set(stopwords.words('english'))"
   ]
  },
  {
   "cell_type": "code",
   "execution_count": 48,
   "id": "873c0f1d",
   "metadata": {},
   "outputs": [
    {
     "data": {
      "text/plain": [
       "{'a',\n",
       " 'about',\n",
       " 'above',\n",
       " 'after',\n",
       " 'again',\n",
       " 'against',\n",
       " 'ain',\n",
       " 'all',\n",
       " 'am',\n",
       " 'an',\n",
       " 'and',\n",
       " 'any',\n",
       " 'are',\n",
       " 'aren',\n",
       " \"aren't\",\n",
       " 'as',\n",
       " 'at',\n",
       " 'be',\n",
       " 'because',\n",
       " 'been',\n",
       " 'before',\n",
       " 'being',\n",
       " 'below',\n",
       " 'between',\n",
       " 'both',\n",
       " 'but',\n",
       " 'by',\n",
       " 'can',\n",
       " 'couldn',\n",
       " \"couldn't\",\n",
       " 'd',\n",
       " 'did',\n",
       " 'didn',\n",
       " \"didn't\",\n",
       " 'do',\n",
       " 'does',\n",
       " 'doesn',\n",
       " \"doesn't\",\n",
       " 'doing',\n",
       " 'don',\n",
       " \"don't\",\n",
       " 'down',\n",
       " 'during',\n",
       " 'each',\n",
       " 'few',\n",
       " 'for',\n",
       " 'from',\n",
       " 'further',\n",
       " 'had',\n",
       " 'hadn',\n",
       " \"hadn't\",\n",
       " 'has',\n",
       " 'hasn',\n",
       " \"hasn't\",\n",
       " 'have',\n",
       " 'haven',\n",
       " \"haven't\",\n",
       " 'having',\n",
       " 'he',\n",
       " 'her',\n",
       " 'here',\n",
       " 'hers',\n",
       " 'herself',\n",
       " 'him',\n",
       " 'himself',\n",
       " 'his',\n",
       " 'how',\n",
       " 'i',\n",
       " 'if',\n",
       " 'in',\n",
       " 'into',\n",
       " 'is',\n",
       " 'isn',\n",
       " \"isn't\",\n",
       " 'it',\n",
       " \"it's\",\n",
       " 'its',\n",
       " 'itself',\n",
       " 'just',\n",
       " 'll',\n",
       " 'm',\n",
       " 'ma',\n",
       " 'me',\n",
       " 'mightn',\n",
       " \"mightn't\",\n",
       " 'more',\n",
       " 'most',\n",
       " 'mustn',\n",
       " \"mustn't\",\n",
       " 'my',\n",
       " 'myself',\n",
       " 'needn',\n",
       " \"needn't\",\n",
       " 'no',\n",
       " 'nor',\n",
       " 'not',\n",
       " 'now',\n",
       " 'o',\n",
       " 'of',\n",
       " 'off',\n",
       " 'on',\n",
       " 'once',\n",
       " 'only',\n",
       " 'or',\n",
       " 'other',\n",
       " 'our',\n",
       " 'ours',\n",
       " 'ourselves',\n",
       " 'out',\n",
       " 'over',\n",
       " 'own',\n",
       " 're',\n",
       " 's',\n",
       " 'same',\n",
       " 'shan',\n",
       " \"shan't\",\n",
       " 'she',\n",
       " \"she's\",\n",
       " 'should',\n",
       " \"should've\",\n",
       " 'shouldn',\n",
       " \"shouldn't\",\n",
       " 'so',\n",
       " 'some',\n",
       " 'such',\n",
       " 't',\n",
       " 'than',\n",
       " 'that',\n",
       " \"that'll\",\n",
       " 'the',\n",
       " 'their',\n",
       " 'theirs',\n",
       " 'them',\n",
       " 'themselves',\n",
       " 'then',\n",
       " 'there',\n",
       " 'these',\n",
       " 'they',\n",
       " 'this',\n",
       " 'those',\n",
       " 'through',\n",
       " 'to',\n",
       " 'too',\n",
       " 'under',\n",
       " 'until',\n",
       " 'up',\n",
       " 've',\n",
       " 'very',\n",
       " 'was',\n",
       " 'wasn',\n",
       " \"wasn't\",\n",
       " 'we',\n",
       " 'were',\n",
       " 'weren',\n",
       " \"weren't\",\n",
       " 'what',\n",
       " 'when',\n",
       " 'where',\n",
       " 'which',\n",
       " 'while',\n",
       " 'who',\n",
       " 'whom',\n",
       " 'why',\n",
       " 'will',\n",
       " 'with',\n",
       " 'won',\n",
       " \"won't\",\n",
       " 'wouldn',\n",
       " \"wouldn't\",\n",
       " 'y',\n",
       " 'you',\n",
       " \"you'd\",\n",
       " \"you'll\",\n",
       " \"you're\",\n",
       " \"you've\",\n",
       " 'your',\n",
       " 'yours',\n",
       " 'yourself',\n",
       " 'yourselves'}"
      ]
     },
     "execution_count": 48,
     "metadata": {},
     "output_type": "execute_result"
    }
   ],
   "source": [
    "stop_words"
   ]
  },
  {
   "cell_type": "code",
   "execution_count": 64,
   "id": "3761bc76",
   "metadata": {},
   "outputs": [
    {
     "name": "stdout",
     "output_type": "stream",
     "text": [
      "words:  ['stopwords', 'are', 'frequently', 'filtered', 'out', 'to', 'enhance', 'text', 'analysis', 'and', 'computational', 'efficiency', '.', 'Eliminating', 'stopwords', 'can', 'improve', 'the', 'accuracy', 'and', 'relevance', 'of', 'NLP', 'tasks', 'by', 'drawing', 'attention', 'to', 'the', 'more', 'important', 'words', ',', 'or', 'content', 'words', '.', 'The', 'article', 'aims', 'to', 'explore', 'stopwords', '.']\n",
      "\n",
      "filtered_sentence:  ['stopwords', 'frequently', 'filtered', 'enhance', 'text', 'analysis', 'computational', 'efficiency', '.', 'Eliminating', 'stopwords', 'improve', 'accuracy', 'relevance', 'NLP', 'tasks', 'drawing', 'attention', 'important', 'words', ',', 'content', 'words', '.', 'The', 'article', 'aims', 'explore', 'stopwords', '.']\n",
      "\n",
      " StopWords: ['are', 'out', 'to', 'and', 'can', 'the', 'and', 'of', 'by', 'to', 'the', 'more', 'or', 'to']\n"
     ]
    }
   ],
   "source": [
    "msg = \"stopwords are frequently filtered out to enhance text analysis and computational efficiency. Eliminating stopwords can improve the accuracy and relevance of NLP tasks by drawing attention to the more important words, or content words. The article aims to explore stopwords.\"\n",
    "words = word_tokenize(msg)\n",
    "\n",
    "filtered_sentence = []\n",
    "stopwords = []\n",
    "\n",
    "for w in words:\n",
    "  if w not in stop_words:\n",
    "    filtered_sentence.append(w)\n",
    "  else :\n",
    "     stopwords.append(w)\n",
    "    \n",
    "print(\"words: \",words)\n",
    "print(\"\\nfiltered_sentence: \",filtered_sentence)\n",
    "print('\\n',\"StopWords:\",stopwords)"
   ]
  },
  {
   "cell_type": "code",
   "execution_count": null,
   "id": "2345a3b4",
   "metadata": {},
   "outputs": [],
   "source": []
  },
  {
   "cell_type": "code",
   "execution_count": null,
   "id": "d99c389c",
   "metadata": {},
   "outputs": [],
   "source": []
  }
 ],
 "metadata": {
  "kernelspec": {
   "display_name": "Python 3 (ipykernel)",
   "language": "python",
   "name": "python3"
  },
  "language_info": {
   "codemirror_mode": {
    "name": "ipython",
    "version": 3
   },
   "file_extension": ".py",
   "mimetype": "text/x-python",
   "name": "python",
   "nbconvert_exporter": "python",
   "pygments_lexer": "ipython3",
   "version": "3.11.5"
  }
 },
 "nbformat": 4,
 "nbformat_minor": 5
}
