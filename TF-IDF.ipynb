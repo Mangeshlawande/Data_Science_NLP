{
 "cells": [
  {
   "cell_type": "code",
   "execution_count": 1,
   "id": "a699c09d",
   "metadata": {},
   "outputs": [],
   "source": [
    "from sklearn.feature_extraction.text import TfidfVectorizer\n",
    "import pandas as pd"
   ]
  },
  {
   "cell_type": "code",
   "execution_count": 2,
   "id": "02e16a29",
   "metadata": {},
   "outputs": [],
   "source": [
    "A1 = \"hello and welcome Dosto \"\n",
    "A2 = \"Harry love NLP\"\n",
    "A3 = \"Harry is good boy \"\n"
   ]
  },
  {
   "cell_type": "code",
   "execution_count": 3,
   "id": "8be53194",
   "metadata": {},
   "outputs": [
    {
     "name": "stdout",
     "output_type": "stream",
     "text": [
      "        boy    dosto      good    harry    hello      love       nlp  welcome\n",
      "0  0.000000  0.57735  0.000000  0.00000  0.57735  0.000000  0.000000  0.57735\n",
      "1  0.000000  0.00000  0.000000  0.47363  0.00000  0.622766  0.622766  0.00000\n",
      "2  0.622766  0.00000  0.622766  0.47363  0.00000  0.000000  0.000000  0.00000\n"
     ]
    }
   ],
   "source": [
    "vectorizer = TfidfVectorizer(stop_words='english')\n",
    "vectors = vectorizer.fit_transform([A1,A2,A3])\n",
    "feature_names = vectorizer.get_feature_names_out()\n",
    "dense = vectors.todense()\n",
    "\n",
    "result = pd.DataFrame(dense, columns= feature_names)\n",
    "print(result)"
   ]
  },
  {
   "cell_type": "code",
   "execution_count": null,
   "id": "5740f13d",
   "metadata": {},
   "outputs": [],
   "source": []
  }
 ],
 "metadata": {
  "kernelspec": {
   "display_name": "Python 3 (ipykernel)",
   "language": "python",
   "name": "python3"
  },
  "language_info": {
   "codemirror_mode": {
    "name": "ipython",
    "version": 3
   },
   "file_extension": ".py",
   "mimetype": "text/x-python",
   "name": "python",
   "nbconvert_exporter": "python",
   "pygments_lexer": "ipython3",
   "version": "3.11.5"
  }
 },
 "nbformat": 4,
 "nbformat_minor": 5
}
